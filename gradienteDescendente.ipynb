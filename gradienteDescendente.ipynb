{
 "cells": [
  {
   "cell_type": "markdown",
   "metadata": {},
   "source": [
    "# **_Gradiente Descendente_** \n",
    "##### Es un algoritmo de optimizacion utilizado en Machine Learning y estadistica para minimizar una funcion objetivo, comunmente una funcion de costo o perdida. EL objetivo principal es encontrar los valores optimos de los parametros del modelo que minimizan la funcion de costo."
   ]
  },
  {
   "cell_type": "markdown",
   "metadata": {},
   "source": [
    "### **_Conceptos basicos_**\n",
    "##### __Funcion de costo:__ mide cuan mal esta funcionando tu modelo\n",
    "##### __Gradiente:__ es un vector de derivadas parciales de la funcion de costo con respecto a su parametro. Indica la direccion y la magnitud del cambio necesario en los parametos para minimizar la funcion de costo.\n",
    "##### __Tasa de aprendizaje:__ es un hiperparametro que setermina el tamaño de los pasos que da el algoritmo hacia el minimo de la funcion de costo.\n"
   ]
  },
  {
   "cell_type": "markdown",
   "metadata": {},
   "source": [
    "#### **_Algoritmo de gradiente descendente_**\n",
    "- Inicializa los parametros del modelo con valores aleatorios.\n",
    "- Calcula el valor de la funcion de costo.\n",
    "- Calcula el gradiente de la funcion de costo con respecto a los parametros.\n",
    "- Actualiza los parametros en la direccion opuesta al gradiente.\n",
    "- Repite los pasos 2-4 hasta que los cambios en la funcion de costo sean pequeños o hasta que se alcance un numero maximo de iteraciones. \n"
   ]
  },
  {
   "cell_type": "markdown",
   "metadata": {},
   "source": [
    "# **_Ejemplo practico_**"
   ]
  },
  {
   "cell_type": "code",
   "execution_count": null,
   "metadata": {},
   "outputs": [],
   "source": []
  }
 ],
 "metadata": {
  "language_info": {
   "name": "python"
  }
 },
 "nbformat": 4,
 "nbformat_minor": 2
}
