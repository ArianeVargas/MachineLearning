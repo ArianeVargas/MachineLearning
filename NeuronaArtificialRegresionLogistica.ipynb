{
 "cells": [
  {
   "cell_type": "markdown",
   "metadata": {},
   "source": [
    "## **_Neurona Artificial_**\n",
    "Es un componente basico de una red neuronal. Se inspira en la neurona biologica y se utiliza en modelos de machine learning para procesar y transformar datos de entrada en una salida.\n",
    "__Componentes de una Neurona Artificial:__\n",
    "- Entradas (𝑥1, 𝑥2,…, 𝑥𝑛): Los datos de entrada.\n",
    "- Pesos (𝑤1, 𝑤2,…, 𝑤𝑛): Cada entrada tiene un peso asociado que se ajusta durante el entrenamiento.\n",
    "- Sesgo (bias, 𝑏): Un valor adicional que permite al modelo ajustarse mejor.\n",
    "- Función de Activación: Transforma la suma ponderada de las entradas en una salida.\n",
    "\n",
    "__La fórmula matemática de una neurona es:__\n",
    "- 𝑧 = 𝑤1𝑥1 + 𝑤2𝑥2 +…+ 𝑤𝑛𝑥𝑛 + 𝑏\n",
    "- 𝑦 = Activacion(𝑧)\n"
   ]
  },
  {
   "cell_type": "markdown",
   "metadata": {},
   "source": [
    "## **_Regresion logistica_**\n",
    "Es un algoritmo de clasificación que se utiliza para predecir la probabilidad de una clase (generalmente binaria). En lugar de predecir un valor continuo como en la regresión lineal, predice una probabilidad que luego se asigna a una clase.\n",
    "\n",
    "__Función Sigmoide__\n",
    "La función de activación comúnmente utilizada en la regresión logística es la función sigmoide:\n",
    "- 𝜎(𝑧) = 1/1+𝑒**−𝑧\n",
    "​\n",
    "> Donde 𝑧 es la combinación lineal de las entradas y los pesos: \n",
    "__𝑧 = 𝑤1𝑥1 + 𝑤2𝑥2 +…+ 𝑤𝑛𝑥𝑛 + 𝑏__\n",
    "\n",
    "La salida de la función sigmoide es un valor entre 0 y 1, que puede interpretarse como una probabilidad."
   ]
  },
  {
   "cell_type": "markdown",
   "metadata": {},
   "source": [
    "## __Ejemplo practico__"
   ]
  },
  {
   "cell_type": "code",
   "execution_count": null,
   "metadata": {},
   "outputs": [],
   "source": [
    "# Generar datos sinteticos\n"
   ]
  }
 ],
 "metadata": {
  "language_info": {
   "name": "python"
  }
 },
 "nbformat": 4,
 "nbformat_minor": 2
}
