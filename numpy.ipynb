{
 "cells": [
  {
   "cell_type": "code",
   "execution_count": 4,
   "metadata": {},
   "outputs": [
    {
     "name": "stdout",
     "output_type": "stream",
     "text": [
      "[1 2 3 4 5]\n",
      "\n",
      "\n",
      "[[1 2 3]\n",
      " [4 5 6]]\n"
     ]
    }
   ],
   "source": [
    "import numpy as np #calculo numerico sobre arrays y matrices \n",
    "\n",
    "#crear un arreglo unidimencional\n",
    "arr = np.array([1, 2, 3, 4, 5])\n",
    "print(arr)\n",
    "print('\\n')\n",
    "#crear un arreglo bidimencional\n",
    "matrix = np.array([[1, 2, 3], [4, 5, 6]])\n",
    "print(matrix)\n"
   ]
  },
  {
   "cell_type": "markdown",
   "metadata": {},
   "source": [
    "## Creacion de arreglos"
   ]
  },
  {
   "cell_type": "code",
   "execution_count": 5,
   "metadata": {},
   "outputs": [
    {
     "name": "stdout",
     "output_type": "stream",
     "text": [
      "[[0. 0. 0. 0.]\n",
      " [0. 0. 0. 0.]\n",
      " [0. 0. 0. 0.]]\n",
      "\n",
      "\n",
      "[[1. 1. 1.]\n",
      " [1. 1. 1.]]\n",
      "\n",
      "\n",
      "[[7 7]\n",
      " [7 7]]\n"
     ]
    }
   ],
   "source": [
    "#arreglos con valores inicializados\n",
    "#arreglo de ceros\n",
    "zeros = np.zeros((3,4))\n",
    "print(zeros)\n",
    "print('\\n')\n",
    "#arreglo de unos\n",
    "ones = np.ones((2, 3))\n",
    "print(ones)\n",
    "print('\\n')\n",
    "#arreglo con valores contrastes\n",
    "full = np.full((2, 2), 7)\n",
    "print(full)"
   ]
  },
  {
   "cell_type": "code",
   "execution_count": 6,
   "metadata": {},
   "outputs": [
    {
     "name": "stdout",
     "output_type": "stream",
     "text": [
      "[0 1 2 3 4 5 6 7 8 9]\n",
      "\n",
      "\n",
      "[1 3 5 7 9]\n",
      "\n",
      "\n",
      "[0.   0.25 0.5  0.75 1.  ]\n"
     ]
    }
   ],
   "source": [
    "#Arreglos con secuencias numericas\n",
    "#secuencia de numeros\n",
    "sequence = np.arange(10)\n",
    "print(sequence)\n",
    "print('\\n')\n",
    "#secuencia de numeros con un intervalo\n",
    "interval = np.arange(1, 10, 2)\n",
    "print(interval)\n",
    "print('\\n')\n",
    "#secuencia de numeros equidistantes\n",
    "linspace = np.linspace(0, 1, 5)\n",
    "print(linspace)"
   ]
  },
  {
   "cell_type": "markdown",
   "metadata": {},
   "source": [
    "## Propiedades de arreglos"
   ]
  },
  {
   "cell_type": "code",
   "execution_count": 7,
   "metadata": {},
   "outputs": [
    {
     "name": "stdout",
     "output_type": "stream",
     "text": [
      "(2, 3)\n",
      "\n",
      "\n",
      "6\n",
      "\n",
      "\n",
      "2\n"
     ]
    }
   ],
   "source": [
    "#forma y tamaño\n",
    "#ver forma del arreglo\n",
    "print(matrix.shape)\n",
    "print('\\n')\n",
    "#ver numero de elementos\n",
    "print(matrix.size)\n",
    "print('\\n')\n",
    "#ver numero de dimenciones\n",
    "print(matrix.ndim)"
   ]
  },
  {
   "cell_type": "code",
   "execution_count": 10,
   "metadata": {},
   "outputs": [
    {
     "name": "stdout",
     "output_type": "stream",
     "text": [
      "int64\n",
      "\n",
      "\n",
      "[1 2 3]\n",
      "\n",
      "\n",
      "[1. 2. 3.]\n"
     ]
    }
   ],
   "source": [
    "#tipos de datos\n",
    "#ver tipo de dato del arreglo\n",
    "print(matrix.dtype)\n",
    "print('\\n')\n",
    "#crear un arreglo de enteros\n",
    "int_array = np.array([1, 2, 3], dtype=int)\n",
    "print(int_array)\n",
    "print('\\n')\n",
    "#crear un arreglo de flotantes\n",
    "float_array = np.array([1.0, 2.0, 3.0], dtype=float)\n",
    "print(float_array)"
   ]
  },
  {
   "cell_type": "markdown",
   "metadata": {},
   "source": [
    "## Indexacion y slicing"
   ]
  },
  {
   "cell_type": "code",
   "execution_count": 11,
   "metadata": {},
   "outputs": [
    {
     "name": "stdout",
     "output_type": "stream",
     "text": [
      "1\n",
      "\n",
      "\n",
      "[10  2  3  4  5]\n"
     ]
    }
   ],
   "source": [
    "#indexacion basica\n",
    "arr = np.array([1, 2, 3, 4, 5])\n",
    "\n",
    "#acceder al elemento\n",
    "print(arr[0])\n",
    "print('\\n')\n",
    "#mdificar un elemento\n",
    "arr[0] = 10\n",
    "print(arr)"
   ]
  },
  {
   "cell_type": "code",
   "execution_count": 12,
   "metadata": {},
   "outputs": [
    {
     "name": "stdout",
     "output_type": "stream",
     "text": [
      "[2 3 4]\n",
      "\n",
      "\n",
      "[10  3  5]\n",
      "\n",
      "\n",
      "[ 5  4  3  2 10]\n"
     ]
    }
   ],
   "source": [
    "#Slicing\n",
    "#subarreglo\n",
    "print(arr[1:4])\n",
    "print('\\n')\n",
    "#subarreglo con paso\n",
    "print(arr[::2])\n",
    "print('\\n')\n",
    "#subarreglo invertido\n",
    "print(arr[::-1])"
   ]
  },
  {
   "cell_type": "code",
   "execution_count": 13,
   "metadata": {},
   "outputs": [
    {
     "name": "stdout",
     "output_type": "stream",
     "text": [
      "6\n",
      "\n",
      "\n",
      "[4 5 6]\n",
      "\n",
      "\n",
      "[2 5 8]\n"
     ]
    }
   ],
   "source": [
    "# Indexacion en arreglos multidimencionales\n",
    "matrix = np.array([[1, 2, 3], [4, 5, 6], [7, 8, 9]])\n",
    "\n",
    "#acceder a un elemento\n",
    "print(matrix[1, 2])\n",
    "print('\\n')\n",
    "#acceder a una fila comoleta\n",
    "print(matrix[1, :])\n",
    "print('\\n')\n",
    "#acceder a una columna completa\n",
    "print(matrix[:, 1])"
   ]
  },
  {
   "cell_type": "markdown",
   "metadata": {},
   "source": [
    "## Operaciones matematicas"
   ]
  },
  {
   "cell_type": "code",
   "execution_count": 14,
   "metadata": {},
   "outputs": [
    {
     "name": "stdout",
     "output_type": "stream",
     "text": [
      "[5 7 9]\n",
      "\n",
      "\n",
      "[-3 -3 -3]\n",
      "\n",
      "\n",
      "[ 4 10 18]\n",
      "\n",
      "\n",
      "[0.25 0.4  0.5 ]\n"
     ]
    }
   ],
   "source": [
    "#operaciones elementales\n",
    "a = np.array([1, 2, 3])\n",
    "b = np.array([4, 5, 6])\n",
    "\n",
    "#suma\n",
    "print(a + b)\n",
    "print('\\n')\n",
    "#resta\n",
    "print(a - b)\n",
    "print('\\n')\n",
    "#multiplicacion \n",
    "print(a * b)\n",
    "print('\\n')\n",
    "#divicion\n",
    "print(a / b)"
   ]
  },
  {
   "cell_type": "code",
   "execution_count": 15,
   "metadata": {},
   "outputs": [
    {
     "name": "stdout",
     "output_type": "stream",
     "text": [
      "[1.         1.41421356 1.73205081]\n",
      "\n",
      "\n",
      "[0.84147098 0.90929743 0.14112001]\n",
      "\n",
      "\n",
      "[0.         0.69314718 1.09861229]\n"
     ]
    }
   ],
   "source": [
    "#funciones universales (ufuncs)\n",
    "#raiz cuadrada\n",
    "print(np.sqrt(a))\n",
    "print('\\n')\n",
    "#seno\n",
    "print(np.sin(a))\n",
    "print('\\n')\n",
    "#logaritmo natural\n",
    "print(np.log(a))"
   ]
  },
  {
   "cell_type": "markdown",
   "metadata": {},
   "source": [
    "## Algebra lineal"
   ]
  },
  {
   "cell_type": "code",
   "execution_count": 16,
   "metadata": {},
   "outputs": [
    {
     "name": "stdout",
     "output_type": "stream",
     "text": [
      "[[19 22]\n",
      " [43 50]]\n"
     ]
    }
   ],
   "source": [
    "#productos de matrices\n",
    "a = np.array([[1, 2], [3, 4]])\n",
    "b = np.array([[5, 6], [7, 8]])\n",
    "\n",
    "#productos de matrices\n",
    "print(np.dot(a, b))"
   ]
  },
  {
   "cell_type": "code",
   "execution_count": 17,
   "metadata": {},
   "outputs": [
    {
     "name": "stdout",
     "output_type": "stream",
     "text": [
      "-2.0000000000000004\n",
      "\n",
      "\n",
      "[[1 3]\n",
      " [2 4]]\n"
     ]
    }
   ],
   "source": [
    "#determinante y transpuesta\n",
    "#determinante de una matriz\n",
    "print(np.linalg.det(a))\n",
    "print('\\n')\n",
    "#transpuesta de una matriz\n",
    "print(a.T)"
   ]
  },
  {
   "cell_type": "markdown",
   "metadata": {},
   "source": [
    "## Manipulacion de arreglos"
   ]
  },
  {
   "cell_type": "code",
   "execution_count": 18,
   "metadata": {},
   "outputs": [
    {
     "name": "stdout",
     "output_type": "stream",
     "text": [
      "[[ 1  2  3  4]\n",
      " [ 5  6  7  8]\n",
      " [ 9 10 11 12]]\n"
     ]
    }
   ],
   "source": [
    "#cambio de forma\n",
    "arr = np.arange(1, 13)\n",
    "\n",
    "#cambiar forma de arreglo\n",
    "reshaped = arr.reshape((3, 4))\n",
    "print(reshaped)"
   ]
  },
  {
   "cell_type": "code",
   "execution_count": 19,
   "metadata": {},
   "outputs": [
    {
     "name": "stdout",
     "output_type": "stream",
     "text": [
      "[[1 2]\n",
      " [3 4]\n",
      " [5 6]\n",
      " [7 8]]\n",
      "\n",
      "\n",
      "[array([[1, 2],\n",
      "       [3, 4]]), array([[5, 6],\n",
      "       [7, 8]])]\n"
     ]
    }
   ],
   "source": [
    "#concatenacion y divicion\n",
    "a = np.array([[1, 2], [3, 4]])\n",
    "b = np.array([[5, 6], [7, 8]])\n",
    "\n",
    "#concatenar arreglos\n",
    "concat = np.concatenate((a, b), axis=0)\n",
    "print(concat)\n",
    "print('\\n')\n",
    "#dividir un arreglo\n",
    "split = np.array_split(concat, 2, axis=0)\n",
    "print(split)\n"
   ]
  },
  {
   "cell_type": "markdown",
   "metadata": {},
   "source": [
    "## Estadisticas y agregaciones"
   ]
  },
  {
   "cell_type": "code",
   "execution_count": 20,
   "metadata": {},
   "outputs": [
    {
     "name": "stdout",
     "output_type": "stream",
     "text": [
      "15\n",
      "\n",
      "\n",
      "3.0\n",
      "\n",
      "\n",
      "1.4142135623730951\n"
     ]
    }
   ],
   "source": [
    "#funciones basicas\n",
    "arr = np.array([1, 2, 3, 4, 5])\n",
    "\n",
    "#suma\n",
    "print(np.sum(arr))\n",
    "print('\\n')\n",
    "#promedio\n",
    "print(np.mean(arr))\n",
    "print('\\n')\n",
    "#desviacion estandar\n",
    "print(np.std(arr))"
   ]
  },
  {
   "cell_type": "code",
   "execution_count": 21,
   "metadata": {},
   "outputs": [
    {
     "name": "stdout",
     "output_type": "stream",
     "text": [
      "[ 6 15 24]\n",
      "\n",
      "\n",
      "[12 15 18]\n"
     ]
    }
   ],
   "source": [
    "#agregacion en arreglos multidimencionales\n",
    "matrix = np.array([[1, 2, 3], [4, 5, 6], [7, 8, 9]])\n",
    "\n",
    "#sumar por filas\n",
    "print(np.sum(matrix, axis=1))\n",
    "print('\\n')\n",
    "#suma por columnas\n",
    "print(np.sum(matrix, axis=0))"
   ]
  }
 ],
 "metadata": {
  "kernelspec": {
   "display_name": "Python 3",
   "language": "python",
   "name": "python3"
  },
  "language_info": {
   "codemirror_mode": {
    "name": "ipython",
    "version": 3
   },
   "file_extension": ".py",
   "mimetype": "text/x-python",
   "name": "python",
   "nbconvert_exporter": "python",
   "pygments_lexer": "ipython3",
   "version": "3.12.4"
  }
 },
 "nbformat": 4,
 "nbformat_minor": 2
}
