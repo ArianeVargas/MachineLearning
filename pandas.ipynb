{
 "cells": [
  {
   "cell_type": "markdown",
   "metadata": {},
   "source": [
    "# Pandas\n"
   ]
  },
  {
   "cell_type": "markdown",
   "metadata": {},
   "source": [
    "## Importacion y primeros pasos "
   ]
  },
  {
   "cell_type": "code",
   "execution_count": 17,
   "metadata": {},
   "outputs": [
    {
     "name": "stdout",
     "output_type": "stream",
     "text": [
      "Empty DataFrame\n",
      "Columns: []\n",
      "Index: []\n"
     ]
    }
   ],
   "source": [
    "import pandas as pd\n",
    "\n",
    "#crear un DataFrame vacio\n",
    "df = pd.DataFrame()\n",
    "print(df)"
   ]
  },
  {
   "cell_type": "markdown",
   "metadata": {},
   "source": [
    "## Estructuras de datos"
   ]
  },
  {
   "cell_type": "code",
   "execution_count": 18,
   "metadata": {},
   "outputs": [
    {
     "name": "stdout",
     "output_type": "stream",
     "text": [
      "0    1\n",
      "1    2\n",
      "2    3\n",
      "3    4\n",
      "4    5\n",
      "dtype: int64\n",
      "\n",
      "\n",
      "a    1\n",
      "b    2\n",
      "c    3\n",
      "d    4\n",
      "e    5\n",
      "dtype: int64\n"
     ]
    }
   ],
   "source": [
    "#Serie: es una estructura de datos unidimencional similar a un array\n",
    "data = [1, 2, 3, 4, 5]\n",
    "s = pd.Series(data)\n",
    "print(s)\n",
    "print('\\n')\n",
    "#series con indices personalizados\n",
    "s = pd.Series(data, index=['a', 'b', 'c', 'd', 'e'])\n",
    "print(s)"
   ]
  },
  {
   "cell_type": "code",
   "execution_count": 19,
   "metadata": {},
   "outputs": [
    {
     "name": "stdout",
     "output_type": "stream",
     "text": [
      "   nombre  edad     ciudad\n",
      "0     Ana    22    Madriid\n",
      "1    Luis    34  Barcelona\n",
      "2  Carlos    45   Valencia\n"
     ]
    }
   ],
   "source": [
    "#DataFrame es una estructura de datos bidimencional similar a una tabla en una base de datos \n",
    "dataFrame = {\n",
    "    'nombre': ['Ana', 'Luis', 'Carlos'],\n",
    "    'edad': [22, 34, 45],\n",
    "    'ciudad': ['Madriid', 'Barcelona', 'Valencia']\n",
    "}\n",
    "\n",
    "df = pd.DataFrame(dataFrame)\n",
    "print(df)"
   ]
  },
  {
   "cell_type": "markdown",
   "metadata": {},
   "source": [
    "## Operaciones basicas"
   ]
  },
  {
   "cell_type": "code",
   "execution_count": 20,
   "metadata": {},
   "outputs": [
    {
     "name": "stdout",
     "output_type": "stream",
     "text": [
      "0       Ana\n",
      "1      Luis\n",
      "2    Carlos\n",
      "Name: nombre, dtype: object\n",
      "\n",
      "\n",
      "   nombre  edad\n",
      "0     Ana    22\n",
      "1    Luis    34\n",
      "2  Carlos    45\n",
      "\n",
      "\n",
      "nombre         Luis\n",
      "edad             34\n",
      "ciudad    Barcelona\n",
      "Name: 1, dtype: object\n",
      "\n",
      "\n",
      "nombre         Luis\n",
      "edad             34\n",
      "ciudad    Barcelona\n",
      "Name: 1, dtype: object\n",
      "\n",
      "\n",
      "   nombre  edad     ciudad\n",
      "1    Luis    34  Barcelona\n",
      "2  Carlos    45   Valencia\n"
     ]
    }
   ],
   "source": [
    "#indexacion y seleccion\n",
    "#seleccionar una columna\n",
    "print(df['nombre'])\n",
    "print('\\n')\n",
    "#seleccionar varias columnas\n",
    "print(df[['nombre','edad']])\n",
    "print('\\n')\n",
    "#seleccinar fila por indice\n",
    "print(df.loc[1])\n",
    "print('\\n')\n",
    "#seleccionar filas por posicion\n",
    "print(df.iloc[1])\n",
    "print('\\n')\n",
    "#filtrado\n",
    "#filtrar filas basadas en condiciones\n",
    "print(df[df['edad'] > 30])"
   ]
  },
  {
   "cell_type": "markdown",
   "metadata": {},
   "source": [
    "## Manipulacion de datos"
   ]
  },
  {
   "cell_type": "code",
   "execution_count": 21,
   "metadata": {},
   "outputs": [
    {
     "name": "stdout",
     "output_type": "stream",
     "text": [
      "   nombre  edad     ciudad  salario\n",
      "0     Ana    22    Madriid    30000\n",
      "1    Luis    34  Barcelona    40000\n",
      "2  Carlos    45   Valencia    50000\n",
      "\n",
      "\n",
      "   nombre  edad     ciudad\n",
      "0     Ana    22    Madriid\n",
      "1    Luis    34  Barcelona\n",
      "2  Carlos    45   Valencia\n",
      "\n",
      "\n",
      "        edad     ciudad\n",
      "nombre                 \n",
      "Ana       22    Madriid\n",
      "Luis      34  Barcelona\n",
      "Carlos    45   Valencia\n",
      "\n",
      "\n",
      "   nombre  edad     ciudad\n",
      "0     Ana    22    Madriid\n",
      "1    Luis    34  Barcelona\n",
      "2  Carlos    45   Valencia\n"
     ]
    }
   ],
   "source": [
    "#Agregar y eliminar columnas\n",
    "#agregar nueva columna\n",
    "df['salario'] = [30000, 40000, 50000]\n",
    "print(df)\n",
    "print('\\n')\n",
    "#eliminara una columna\n",
    "df = df.drop('salario', axis=1)\n",
    "print(df)\n",
    "print('\\n')\n",
    "#maipular indices\n",
    "#establecer una columna como indice\n",
    "df = df.set_index('nombre')\n",
    "print(df)\n",
    "print('\\n')\n",
    "#resetear el indice\n",
    "df = df.reset_index()\n",
    "print(df)"
   ]
  },
  {
   "cell_type": "markdown",
   "metadata": {},
   "source": [
    "## Operaciones avanzadas"
   ]
  },
  {
   "cell_type": "code",
   "execution_count": 22,
   "metadata": {},
   "outputs": [
    {
     "name": "stdout",
     "output_type": "stream",
     "text": [
      "departameneto\n",
      "marketing    46000.0\n",
      "ventas       31000.0\n",
      "Name: salario, dtype: float64\n",
      "\n",
      "\n",
      "   ID  nombre  salario\n",
      "0   1     Ana    30000\n",
      "1   2    Luis    32000\n",
      "2   3  Carlos    45000\n"
     ]
    }
   ],
   "source": [
    "#Agrupamiento\n",
    "dataF = {\n",
    "    'departameneto': ['ventas', 'ventas', 'marketing', 'marketing'],\n",
    "    'empleado': ['Ana', 'Luis', 'Carlos', 'Pedro'],\n",
    "    'salario': [30000, 32000, 45000, 47000]\n",
    "}\n",
    "\n",
    "df = pd.DataFrame(dataF)\n",
    "\n",
    "#agrupar por departamento y calcular el salario promedio\n",
    "print(df.groupby('departameneto')['salario'].mean())\n",
    "print('\\n')\n",
    "#operaciones de Merge y Join\n",
    "data1 = {\n",
    "    'ID': [1, 2, 3],\n",
    "    'nombre': ['Ana', 'Luis', 'Carlos']\n",
    "}\n",
    "\n",
    "df1 = pd.DataFrame(data1)\n",
    "\n",
    "data2 = {\n",
    "    'ID': [1, 2, 3],\n",
    "    'salario': [30000, 32000, 45000]\n",
    "}\n",
    "\n",
    "df2 = pd.DataFrame(data2)\n",
    "\n",
    "#merge por columna comuun ID\n",
    "df_merget = pd.merge(df1, df2, on='ID')\n",
    "print(df_merget)\n"
   ]
  },
  {
   "cell_type": "markdown",
   "metadata": {},
   "source": [
    "## Tratamiento de datos faltantes"
   ]
  },
  {
   "cell_type": "code",
   "execution_count": 26,
   "metadata": {},
   "outputs": [
    {
     "name": "stdout",
     "output_type": "stream",
     "text": [
      "   nombre   edad\n",
      "0   False  False\n",
      "1   False   True\n",
      "2    True  False\n",
      "\n",
      "\n",
      "  nombre  edad\n",
      "0    Ana  22.0\n",
      "\n",
      "\n",
      "  nombre  edad\n",
      "0    Ana  22.0\n"
     ]
    }
   ],
   "source": [
    "#Identificacion y eliminacion\n",
    "#dataFrame con valores faltantes\n",
    "data_faltante = {\n",
    "    'nombre': ['Ana', 'Luis', None],\n",
    "    'edad': [22, None, 45]\n",
    "}\n",
    "\n",
    "df = pd.DataFrame(data_faltante)\n",
    "\n",
    "#identificar valores faltantes\n",
    "print(df.isna())\n",
    "print('\\n')\n",
    "#eliminar filas con valores faltantes\n",
    "df = df.dropna()\n",
    "print(df)\n",
    "print('\\n')\n",
    "#rellenar valores faltantes con un valor especifico\n",
    "df = df.fillna({'edad': df['edad'].mean()})\n",
    "print(df)\n"
   ]
  },
  {
   "cell_type": "markdown",
   "metadata": {},
   "source": [
    "## Analisis de datos"
   ]
  },
  {
   "cell_type": "code",
   "execution_count": 28,
   "metadata": {},
   "outputs": [
    {
     "name": "stdout",
     "output_type": "stream",
     "text": [
      "            edad\n",
      "count   8.000000\n",
      "mean   29.500000\n",
      "std     9.899495\n",
      "min    19.000000\n",
      "25%    21.750000\n",
      "50%    26.500000\n",
      "75%    36.000000\n",
      "max    45.000000\n"
     ]
    }
   ],
   "source": [
    "#estadisticas descriptivas\n",
    "data = {\n",
    "    'edad': [22, 34, 45, 29, 42, 24, 21, 19]\n",
    "}\n",
    "\n",
    "df = pd.DataFrame(data)\n",
    "\n",
    "print(df.describe())"
   ]
  },
  {
   "cell_type": "code",
   "execution_count": 31,
   "metadata": {},
   "outputs": [
    {
     "data": {
      "image/png": "[encoded data removed]",
      "text/plain": [
       "<Figure size 640x480 with 1 Axes>"
      ]
     },
     "metadata": {},
     "output_type": "display_data"
    },
    {
     "data": {
      "image/png": "[encoded data removed]",
      "text/plain": [
       "<Figure size 640x480 with 1 Axes>"
      ]
     },
     "metadata": {},
     "output_type": "display_data"
    }
   ],
   "source": [
    "#visualizacion con pandas\n",
    "import matplotlib.pyplot as plt\n",
    "\n",
    "#grafico de barras\n",
    "df['edad'].plot(kind='bar')\n",
    "plt.show()\n",
    "\n",
    "#grafico de lineas\n",
    "df['edad'].plot(kind='line')\n",
    "plt.show()\n"
   ]
  },
  {
   "cell_type": "markdown",
   "metadata": {},
   "source": [
    "## Lectura y escritura de archivos"
   ]
  },
  {
   "cell_type": "code",
   "execution_count": 32,
   "metadata": {},
   "outputs": [
    {
     "name": "stdout",
     "output_type": "stream",
     "text": [
      "     PassengerId  Survived  Pclass  \\\n",
      "0              1         0       3   \n",
      "1              2         1       1   \n",
      "2              3         1       3   \n",
      "3              4         1       1   \n",
      "4              5         0       3   \n",
      "..           ...       ...     ...   \n",
      "886          887         0       2   \n",
      "887          888         1       1   \n",
      "888          889         0       3   \n",
      "889          890         1       1   \n",
      "890          891         0       3   \n",
      "\n",
      "                                                  Name     Sex   Age  SibSp  \\\n",
      "0                              Braund, Mr. Owen Harris    male  22.0      1   \n",
      "1    Cumings, Mrs. John Bradley (Florence Briggs Th...  female  38.0      1   \n",
      "2                               Heikkinen, Miss. Laina  female  26.0      0   \n",
      "3         Futrelle, Mrs. Jacques Heath (Lily May Peel)  female  35.0      1   \n",
      "4                             Allen, Mr. William Henry    male  35.0      0   \n",
      "..                                                 ...     ...   ...    ...   \n",
      "886                              Montvila, Rev. Juozas    male  27.0      0   \n",
      "887                       Graham, Miss. Margaret Edith  female  19.0      0   \n",
      "888           Johnston, Miss. Catherine Helen \"Carrie\"  female   NaN      1   \n",
      "889                              Behr, Mr. Karl Howell    male  26.0      0   \n",
      "890                                Dooley, Mr. Patrick    male  32.0      0   \n",
      "\n",
      "     Parch            Ticket     Fare Cabin Embarked  \n",
      "0        0         A/5 21171   7.2500   NaN        S  \n",
      "1        0          PC 17599  71.2833   C85        C  \n",
      "2        0  STON/O2. 3101282   7.9250   NaN        S  \n",
      "3        0            113803  53.1000  C123        S  \n",
      "4        0            373450   8.0500   NaN        S  \n",
      "..     ...               ...      ...   ...      ...  \n",
      "886      0            211536  13.0000   NaN        S  \n",
      "887      0            112053  30.0000   B42        S  \n",
      "888      2        W./C. 6607  23.4500   NaN        S  \n",
      "889      0            111369  30.0000  C148        C  \n",
      "890      0            370376   7.7500   NaN        Q  \n",
      "\n",
      "[891 rows x 12 columns]\n",
      "\n",
      "\n"
     ]
    }
   ],
   "source": [
    "#leer archivos CSV\n",
    "df = pd.read_csv('titanic/train.csv')\n",
    "print(df)\n",
    "print('\\n')\n",
    "#escribir archivo CSV\n",
    "df.to_csv('nuevo_archivo.csv', index=False)"
   ]
  }
 ],
 "metadata": {
  "kernelspec": {
   "display_name": "Python 3",
   "language": "python",
   "name": "python3"
  },
  "language_info": {
   "codemirror_mode": {
    "name": "ipython",
    "version": 3
   },
   "file_extension": ".py",
   "mimetype": "text/x-python",
   "name": "python",
   "nbconvert_exporter": "python",
   "pygments_lexer": "ipython3",
   "version": "3.12.4"
  }
 },
 "nbformat": 4,
 "nbformat_minor": 2
}
